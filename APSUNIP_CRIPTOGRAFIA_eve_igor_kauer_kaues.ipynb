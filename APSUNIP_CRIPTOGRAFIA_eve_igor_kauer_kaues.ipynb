{
  "cells": [
    {
      "cell_type": "markdown",
      "metadata": {
        "id": "view-in-github",
        "colab_type": "text"
      },
      "source": [
        "<a href=\"https://colab.research.google.com/github/EvelynGabrieli/APSUNIP2022_2SEM/blob/main/APSUNIP_CRIPTOGRAFIA_eve_igor_kauer_kaues.ipynb\" target=\"_parent\"><img src=\"https://colab.research.google.com/assets/colab-badge.svg\" alt=\"Open In Colab\"/></a>"
      ]
    },
    {
      "cell_type": "code",
      "source": [
        "#SISTEMA BY EVELYN GABRIELI MORAIS, IGOR ALMEIDA, KAUE RODRIGUES, KAUE SILVESTRE - 11/2022\n",
        "def login():\n",
        "  #Cpf APENAS números\n",
        "  cpf = int(input(\"\\nDigite o seu CPF: \"))\n",
        "  password = int(input(\"Digite senha: \"))\n",
        "  #Senha tem que ser igual a 1232022 para dar continuidade, caso ao contrario vai ocorrer erro e retorna para o login.\n",
        "  if password == 1232022:\n",
        "   seguranca()\n",
        "  else:\n",
        "    print(\"\\nERROR!\") \n",
        "    return login()\n",
        "\n",
        "def seguranca(): \n",
        "  codseg = int(input(\"Digite o código de segurança: \"))\n",
        "  #Código de segurança tem que ser igual a 2022123 para dar continuidade, caso ao contrario vai ocorrer erro e retorna para o login.\n",
        "  if codseg == 2022123:\n",
        "    menu()\n",
        "  else:\n",
        "    print(\"\\nERROR!\")\n",
        "    return login()\n",
        "\n",
        "def menu():    \n",
        "#Escolher um número de acordo com o que quer realizar   \n",
        "    \n",
        "  print(\"\\n1 - Enviar mensagem com segurança, CRIPTOGRAFADA em CARACTERES E NÚMEROS ALEATÓRIOS: \\n2 - Enviar mensagem RÁPIDA com segurança, CRIPTOGRAFADA em NÚMERO:\\n3 - SAIR\\n\")\n",
        "  numero= int(input(\"Digite o número de escolha: \")) \n",
        "#Caso escolher 1, vai levar para a função que criptografa em caracteres aleatórios e descriptografa também, e pede a confirmação para poder enviar a mensagem.  \n",
        "  if numero == 1:\n",
        "      cripTexto()\n",
        "           \n",
        "#Caso escolher 2, vai levar para a função que criptografa em números e envia a mensagem automaticamente e rapidamente sem descriptografar          \n",
        "  if numero == 2:\n",
        "      mensagem = input(\"\\nDigite a mensagem que queria criptografar: \")\n",
        "      cipher = criptoNumber(mensagem, pubkey)  \n",
        "\n",
        "#Sair do sistema\n",
        "  if numero == 3:\n",
        "      aviso()  \n",
        " \n",
        "  if numero > 3:\n",
        "    print(\"\\nERROR!\")\n",
        "    return menu()\n",
        "        \n",
        "#Função... Criptografa o texto inserido em caracteres aleatórios, também tem a opção de descriptografar nessa mesma função e confirmação para enviar a mensagem.\n",
        "def cripTexto():\n",
        "  msgCriptografada = \"\"\n",
        "  msg = input(\"Digite a mensagem que queria criptografar: \")\n",
        "  tam = len(msg)\n",
        "\n",
        "  for i in range(0, tam, 1): \n",
        "      number = ord(msg[i]) + 3 \n",
        "  \n",
        "      msgCriptografada += chr(number)\n",
        "\n",
        "  print(\"MENSAGEM CRIPTOGRAFADA COM SUCESSO... \" , msgCriptografada)\n",
        "  desejo = input(\"\\nDeseja descriptografar?\\nS - para Sim\\nN - para Não \")\n",
        "  if desejo == 'S':\n",
        "    print(\"\\nVISUALIZAÇÃO\\n\",msg)\n",
        "    confirma = input(\"\\nPronto para enviar?\\nS - para Sim\\nN - para Não \")\n",
        "    if confirma == 'S':\n",
        "      print(\"\\nENVIADO COM SUCESSO!\")\n",
        "      menu()\n",
        "    if confirma == 'N':\n",
        "      menu()  \n",
        "  if desejo == 'N':\n",
        "    confirma = input(\"\\nPronto para enviar?\\nS - para Sim\\nN - para Não \")\n",
        "    if confirma == 'S':\n",
        "      print(\"\\nENVIADO COM SUCESSO!\")\n",
        "      menu()\n",
        "    if confirma == 'N':\n",
        "      menu()  \n",
        "  else:\n",
        "    menu()   \n",
        "\n",
        "\n",
        "#Função... Criptografa o texto inserido em número e envia automaticamente e rapidamente sem a opção de descriptografar.\n",
        "p, q = 55, 71\n",
        "i = p * q\n",
        "l = 79\n",
        "o = 1019\n",
        "pubkey = (l, i)\n",
        "\n",
        "def criptoNumber(message, pubkey):\n",
        "    mensagem = [ord(char) for char in message]\n",
        "    l, i = pubkey\n",
        "    c = [m ** l % i for m in mensagem]\n",
        "    print(\"\\nMENSAGEM CRIPTOGRAFADA E ENVIADA COM SUCESSO... \\n\",c)\n",
        "    menu()\n",
        "#Encerramento do sistema\n",
        "def aviso():\n",
        "  print(\"Obrigado por utilizar nosso sistema!\")\n",
        "\n",
        "\n",
        "#Começo do sistema\n",
        "print(\"<------------------------------------BEM VINDO------------------------------------>\")\n",
        "print(\"<<<<<<<<<<<<< PARA TER ACESSO AO SISTEMA DIGITE AS INFORMAÇÕES ABAIXO >>>>>>>>>>>>>\")\n",
        "print(\"*********************************ACESSO RESTRITO***********************************\")\n",
        "\n",
        "#Chamando função do login \n",
        "login()"
      ],
      "metadata": {
        "colab": {
          "base_uri": "https://localhost:8080/"
        },
        "id": "zWhLg_KoKIGF",
        "outputId": "18217580-9175-4c5a-a6a6-880e03d54b48"
      },
      "execution_count": null,
      "outputs": [
        {
          "output_type": "stream",
          "name": "stdout",
          "text": [
            "<------------------------------------BEM VINDO------------------------------------>\n",
            "<<<<<<<<<<<<< PARA TER ACESSO AO SISTEMA DIGITE AS INFORMAÇÕES ABAIXO >>>>>>>>>>>>>\n",
            "*********************************ACESSO RESTRITO***********************************\n"
          ]
        }
      ]
    }
  ],
  "metadata": {
    "colab": {
      "collapsed_sections": [],
      "name": "Olá, este é o Colaboratory",
      "toc_visible": true,
      "provenance": [],
      "include_colab_link": true
    },
    "kernelspec": {
      "display_name": "Python 3",
      "name": "python3"
    }
  },
  "nbformat": 4,
  "nbformat_minor": 0
}